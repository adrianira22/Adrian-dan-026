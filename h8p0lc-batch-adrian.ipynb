{
 "cells": [
  {
   "cell_type": "markdown",
   "metadata": {},
   "source": [
    "Program Inventory Sederhana"
   ]
  },
  {
   "cell_type": "code",
   "execution_count": 2,
   "metadata": {},
   "outputs": [],
   "source": [
    "# Kelas ini memiliki atribut nama, kategori dan harga\n",
    "#init adalah metode konstruktor yang digunakan untuk menginisialisasi atribut pada objek\n",
    "\n",
    "class Barang:\n",
    "    def init(self, nama, kategori, harga):\n",
    "        self.nama = nama\n",
    "        self.kategori = kategori\n",
    "        self.harga = harga\n",
    "\n"
   ]
  },
  {
   "cell_type": "code",
   "execution_count": 3,
   "metadata": {},
   "outputs": [
    {
     "ename": "IndentationError",
     "evalue": "expected an indented block (2521106926.py, line 27)",
     "output_type": "error",
     "traceback": [
      "\u001b[1;36m  Cell \u001b[1;32mIn[3], line 27\u001b[1;36m\u001b[0m\n\u001b[1;33m    print('==================================')\u001b[0m\n\u001b[1;37m    ^\u001b[0m\n\u001b[1;31mIndentationError\u001b[0m\u001b[1;31m:\u001b[0m expected an indented block\n"
     ]
    }
   ],
   "source": [
    "# Class ini digunakan untuk menyimpan daftar barang\n",
    "# Atribut array_barang adalah list yang digunakan untuk menyimpan barang\n",
    "# atribut id_barang adalah dictionary untuk object barang\n",
    "\n",
    "\n",
    "class DaftarBarang:\n",
    "    def init(self):\n",
    "        self.array_barang = []\n",
    "        self.id_barang = []\n",
    "\n",
    "# metode di bawah ini menambahkan objek barang ke daftar array_barang\n",
    "    \n",
    "    def tambahkan_barang(self, id_barang, barang):\n",
    "        self.array_barang.append(barang)\n",
    "        self.id_barang[id_barang] = barang\n",
    "\n",
    "    def tampilkan_daftar_barang(self):\n",
    "        for barang in self.array_barang:\n",
    "            print('nama: ', barang.nama)\n",
    "            print('kategori: ', barang.kategori)\n",
    "            print('harga: ', barang.harga)\n",
    "            print()\n",
    "\n",
    "    def menu_barang():\n",
    "        barang_list = DaftarBarang()\n",
    "        while True:\n",
    "        print('==================================')\n",
    "        print('Program Inventory Management')\n",
    "        print('==================================')\n",
    "        print('')\n",
    "        print('')\n",
    "        print('Menu :')\n",
    "        print('1. Input Data')\n",
    "        print('2. Menampilkan Data')\n",
    "\n",
    "        pilih = input('Pilih menu atau keluar: ')\n",
    "\n",
    "        if pilih == 1:\n",
    "\n",
    "            nama = input('Masukkan nama barang: ')\n",
    "            kategori = input('Masukkan kategori barang: ')\n",
    "            harga = input('Masukkan harga barang: ')"
   ]
  }
 ],
 "metadata": {
  "kernelspec": {
   "display_name": "Python 3",
   "language": "python",
   "name": "python3"
  },
  "language_info": {
   "codemirror_mode": {
    "name": "ipython",
    "version": 3
   },
   "file_extension": ".py",
   "mimetype": "text/x-python",
   "name": "python",
   "nbconvert_exporter": "python",
   "pygments_lexer": "ipython3",
   "version": "3.9.0"
  }
 },
 "nbformat": 4,
 "nbformat_minor": 2
}
